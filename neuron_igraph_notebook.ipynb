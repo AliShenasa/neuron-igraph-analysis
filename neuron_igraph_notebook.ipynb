{
 "cells": [
  {
   "cell_type": "markdown",
   "metadata": {},
   "source": [
    "### Notebook to test features of neuron_igraph_analysis"
   ]
  },
  {
   "cell_type": "code",
   "execution_count": 1,
   "metadata": {},
   "outputs": [],
   "source": [
    "import sys\n",
    "sys.path.append(r'C:\\Users\\ahshenas\\Documents\\GitHub\\neuron-igraph-analysis')\n",
    "sys.path.append(r'C:\\Users\\ahshenas\\Documents\\GitHub\\custom-plotting')\n",
    "import neuron_igraph_analysis as nrn_graph\n",
    "import swarm"
   ]
  },
  {
   "cell_type": "code",
   "execution_count": null,
   "metadata": {},
   "outputs": [],
   "source": [
    "skeleton_w_syns = nrn_graph.initialize_dataframe()\n",
    "g = nrn_graph.createGraph(skeleton_w_syns)\n",
    "\n",
    "# Calculate syn distances\n",
    "nrn_graph.calculateSynDistance(g, skeleton_w_syns, outputsyn=13018)"
   ]
  },
  {
   "cell_type": "code",
   "execution_count": null,
   "metadata": {},
   "outputs": [],
   "source": [
    "# Create a swarm plot of the distances\n",
    "\n",
    "extrapoints = swarm(yList, panel,\n",
    "                          center=5*(index+1), width=width,\n",
    "                          xmin=xmin, xmax=xmax,\n",
    "                          ymin=ymin, ymax=ymax,\n",
    "                          panelWidth=panelWidth,\n",
    "                          panelHeight=panelHeight,\n",
    "                          pointsize=pointsize)\n",
    "if extrapoints > 0:\n",
    "    print(f\"{extrapoints} points not plotted on list {index+1}\")"
   ]
  }
 ],
 "metadata": {
  "kernelspec": {
   "display_name": "Python 3.8.13 ('neuronSim')",
   "language": "python",
   "name": "python3"
  },
  "language_info": {
   "codemirror_mode": {
    "name": "ipython",
    "version": 3
   },
   "file_extension": ".py",
   "mimetype": "text/x-python",
   "name": "python",
   "nbconvert_exporter": "python",
   "pygments_lexer": "ipython3",
   "version": "3.8.13"
  },
  "orig_nbformat": 4,
  "vscode": {
   "interpreter": {
    "hash": "eeeac163b17ba3ad3ae6bf241ef62c88c70fadc7d1e23839946e56855fd41bf5"
   }
  }
 },
 "nbformat": 4,
 "nbformat_minor": 2
}
