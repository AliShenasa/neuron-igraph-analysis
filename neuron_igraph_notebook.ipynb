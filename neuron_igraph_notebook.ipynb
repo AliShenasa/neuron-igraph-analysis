{
 "cells": [
  {
   "cell_type": "markdown",
   "metadata": {},
   "source": [
    "### Notebook to test features of neuron_igraph_analysis"
   ]
  },
  {
   "cell_type": "code",
   "execution_count": 55,
   "metadata": {},
   "outputs": [],
   "source": [
    "import sys\n",
    "sys.path.append(r'C:\\Users\\ahshenas\\Documents\\GitHub\\neuron-igraph-analysis')\n",
    "sys.path.append(r'C:\\Users\\ahshenas\\Documents\\GitHub\\custom-plotting')\n",
    "import neuron_igraph_analysis as nrn_graph\n",
    "from swarm import swarm\n",
    "\n",
    "import matplotlib.pyplot as plt\n",
    "import numpy as np"
   ]
  },
  {
   "cell_type": "code",
   "execution_count": 56,
   "metadata": {},
   "outputs": [
    {
     "data": {
      "application/vnd.jupyter.widget-view+json": {
       "model_id": "3d735ef200a546e497321b9df8e72c72",
       "version_major": 2,
       "version_minor": 0
      },
      "text/plain": [
       "  0%|          | 0/13596 [00:00<?, ?it/s]"
      ]
     },
     "metadata": {},
     "output_type": "display_data"
    }
   ],
   "source": [
    "skeleton_w_syns = nrn_graph.initialize_dataframe()\n",
    "g = nrn_graph.createGraph(skeleton_w_syns)\n",
    "\n",
    "# Calculate syn distances\n",
    "nrn_graph.calculateSynDistance(g, skeleton_w_syns, outputsyn=13018)"
   ]
  },
  {
   "cell_type": "code",
   "execution_count": 57,
   "metadata": {},
   "outputs": [],
   "source": [
    "# Create all lists for swarm plot\n",
    "\n",
    "lastRowId = skeleton_w_syns['rowId'].iat[-1]\n",
    "temp_skel_w_syns = skeleton_w_syns.loc[skeleton_w_syns['rowId'] < lastRowId]\n",
    "\n",
    "targetPFL3 = list(temp_skel_w_syns.loc[temp_skel_w_syns['instance_pre'] == 'PFL3(PB12c)_R2_C1_irreg', 'distance_um'])\n",
    "allPFL3 = list(temp_skel_w_syns.loc[temp_skel_w_syns['type_pre'] == 'PFL3', 'distance_um'])\n",
    "allSyns = list(temp_skel_w_syns.loc[temp_skel_w_syns['structure'] == 'post', 'distance_um'])"
   ]
  },
  {
   "cell_type": "code",
   "execution_count": 58,
   "metadata": {},
   "outputs": [
    {
     "name": "stdout",
     "output_type": "stream",
     "text": [
      "53 points not plotted on list 2\n",
      "12661 points not plotted on list 3\n"
     ]
    },
    {
     "data": {
      "image/png": "[encoded data removed]",
      "text/plain": [
       "<Figure size 432x288 with 1 Axes>"
      ]
     },
     "metadata": {
      "needs_background": "light"
     },
     "output_type": "display_data"
    }
   ],
   "source": [
    "# Create a swarm plot of the distances\n",
    "\n",
    "figureWidth = 6\n",
    "figureHeight = 3\n",
    "panelWidth = 5\n",
    "panelHeight = 2.5\n",
    "\n",
    "panel = plt.axes([0.1, 0.1, panelWidth/figureWidth, panelHeight/figureHeight])\n",
    "\n",
    "# Get distance to output synapse from all synapses\n",
    "yLists = [targetPFL3, allPFL3, allSyns]\n",
    "pointsizes = [4, 2.5, 2]\n",
    "xmin, xmax = 0, 10\n",
    "xticks = np.linspace(0, xmax, len(yLists)+2)[1:-1]\n",
    "width = 2\n",
    "\n",
    "for index, (yList, pointsize) in enumerate(zip(yLists, pointsizes)):\n",
    "    ymin, ymax = 0, max(yList)*1.1\n",
    "    center = xticks[index]\n",
    "\n",
    "    extrapoints = swarm(yList, panel,\n",
    "                        center=center, width=width,\n",
    "                        xmin=xmin, xmax=xmax,\n",
    "                        ymin=ymin, ymax=ymax,\n",
    "                        panelWidth=panelWidth,\n",
    "                        panelHeight=panelHeight,\n",
    "                        pointsize=pointsize)\n",
    "    if extrapoints > 0:\n",
    "        print(f\"{extrapoints} points not plotted on list {index+1}\")\n",
    "\n",
    "\n",
    "\n",
    "# Set plotting details\n",
    "panel.set_xlim([xmin, xmax])\n",
    "panel.set_ylim([ymin, ymax])\n",
    "\n",
    "panel.set_xticks(xticks)\n",
    "panel.set_xticklabels(['PFL3 of Interest', 'all PFL3\\'s','All Synapses'])\n",
    "panel.set_ylabel('Distance to output synapse')\n",
    "\n",
    "panel.tick_params(bottom=True, labelbottom=True,\n",
    "                  left=True, labelleft=True,\n",
    "                  right=False, labelright=False,\n",
    "                  top=False, labeltop=False,)\n",
    "\n",
    "plt.savefig(\"syn_dist_to_output_swarm.png\", dpi=600)\n",
    "plt.show()"
   ]
  }
 ],
 "metadata": {
  "kernelspec": {
   "display_name": "Python 3.8.13 ('neuronSim')",
   "language": "python",
   "name": "python3"
  },
  "language_info": {
   "codemirror_mode": {
    "name": "ipython",
    "version": 3
   },
   "file_extension": ".py",
   "mimetype": "text/x-python",
   "name": "python",
   "nbconvert_exporter": "python",
   "pygments_lexer": "ipython3",
   "version": "3.8.13"
  },
  "orig_nbformat": 4,
  "vscode": {
   "interpreter": {
    "hash": "eeeac163b17ba3ad3ae6bf241ef62c88c70fadc7d1e23839946e56855fd41bf5"
   }
  }
 },
 "nbformat": 4,
 "nbformat_minor": 2
}
